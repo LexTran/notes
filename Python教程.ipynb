{
 "cells": [
  {
   "cell_type": "markdown",
   "id": "e846ebdd-8887-41d7-8ffd-d58092ca98a2",
   "metadata": {},
   "source": [
    "# Python运算符"
   ]
  },
  {
   "cell_type": "code",
   "execution_count": 4,
   "id": "fce0f81d",
   "metadata": {},
   "outputs": [
    {
     "name": "stdout",
     "output_type": "stream",
     "text": [
      "1.6666666666666667\n",
      "-2\n",
      "1\n",
      "2\n",
      "1\n",
      "512\n",
      "1.0\n",
      "1.0\n"
     ]
    }
   ],
   "source": [
    "print(5/3)\n",
    "print(-5//3)\n",
    "print(5//3)\n",
    "print(5%3)\n",
    "print(-5%3)\n",
    "print(2**3**2)\n",
    "print(1**2**-2)\n",
    "print(1**-2**2)\n",
    "5 + 100%7\n",
    "100//7\n",
    "10/3\n",
    "1/3"
   ]
  },
  {
   "cell_type": "code",
   "execution_count": 9,
   "id": "a3a77f1f",
   "metadata": {},
   "outputs": [],
   "source": [
    "world = \"world\"\n",
    "print(\"hello\" + world)"
   ]
  },
  {
   "cell_type": "code",
   "execution_count": 6,
   "id": "3fbd106b",
   "metadata": {},
   "outputs": [
    {
     "name": "stdout",
     "output_type": "stream",
     "text": [
      "(24.0, 3.456000000000003)\n",
      "(-25.0, 1.543999999999997)\n"
     ]
    }
   ],
   "source": [
    "print(divmod(123.456, 5))\n",
    "print(divmod(-123.456, 5))"
   ]
  },
  {
   "cell_type": "code",
   "execution_count": 18,
   "id": "e84f8078",
   "metadata": {},
   "outputs": [
    {
     "name": "stdout",
     "output_type": "stream",
     "text": [
      "a b1"
     ]
    }
   ],
   "source": [
    "print('a', 'b', end='1')"
   ]
  }
 ],
 "metadata": {
  "kernelspec": {
   "display_name": "Python 3",
   "language": "python",
   "name": "python3"
  },
  "language_info": {
   "codemirror_mode": {
    "name": "ipython",
    "version": 3
   },
   "file_extension": ".py",
   "mimetype": "text/x-python",
   "name": "python",
   "nbconvert_exporter": "python",
   "pygments_lexer": "ipython3",
   "version": "3.8.8"
  }
 },
 "nbformat": 4,
 "nbformat_minor": 5
}
